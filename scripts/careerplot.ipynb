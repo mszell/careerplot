{
 "cells": [
  {
   "cell_type": "markdown",
   "metadata": {},
   "source": [
    "# Careerplot"
   ]
  },
  {
   "cell_type": "markdown",
   "metadata": {},
   "source": [
    "This script takes a data set of a scientific career extracted from Web of Science (WoS) and creates a career lollipop plot, as in: http://science.sciencemag.org/content/354/6312/aaf5239\n",
    "\n",
    "The plot uses bokeh and is interactive."
   ]
  },
  {
   "cell_type": "code",
   "execution_count": 1,
   "metadata": {
    "collapsed": false
   },
   "outputs": [],
   "source": [
    "from bokeh.layouts import row\n",
    "from bokeh.plotting import figure, show, output_file, ColumnDataSource\n",
    "from bokeh.models import HoverTool\n",
    "from collections import OrderedDict\n",
    "import csv\n",
    "from datetime import datetime as dt\n",
    "import time"
   ]
  },
  {
   "cell_type": "code",
   "execution_count": 5,
   "metadata": {
    "collapsed": true
   },
   "outputs": [],
   "source": [
    "#https://stackoverflow.com/questions/6451655/python-how-to-convert-datetime-dates-to-decimal-years\n",
    "def toYearFraction(date):\n",
    "    def sinceEpoch(date): # returns seconds since epoch\n",
    "        return time.mktime(date.timetuple())\n",
    "    s = sinceEpoch\n",
    "\n",
    "    year = date.year\n",
    "    startOfThisYear = dt(year=year, month=1, day=1)\n",
    "    startOfNextYear = dt(year=year+1, month=1, day=1)\n",
    "\n",
    "    yearElapsed = s(date) - s(startOfThisYear)\n",
    "    yearDuration = s(startOfNextYear) - s(startOfThisYear)\n",
    "    fraction = yearElapsed/yearDuration\n",
    "\n",
    "    return date.year + fraction"
   ]
  },
  {
   "cell_type": "code",
   "execution_count": 6,
   "metadata": {
    "collapsed": false
   },
   "outputs": [],
   "source": [
    "## Load data\n",
    "\n",
    "# https://stackoverflow.com/questions/19486369/extract-csv-file-specific-columns-to-list-in-python/19487003\n",
    "with open('../data/career_hawking_scipub.csv', 'r') as infile:\n",
    "  # read the file as a dictionary for each row ({header : value})\n",
    "  reader = csv.DictReader(infile)\n",
    "  data = {}\n",
    "  for row in reader:\n",
    "    for header, value in row.items():\n",
    "      try:\n",
    "        data[header].append(value)\n",
    "      except KeyError:\n",
    "        data[header] = [value]\n",
    "\n",
    "data['date_yfraction'] = [toYearFraction(dt.strptime(data['date'][x], '%Y-%m-%d')) for x in range(len(data['date']))]\n",
    "data['date_year'] = [int(x) for x in data['date_yfraction']]\n",
    "data['title'] = [x.strip().title() for x in data['title']]\n",
    "\n",
    "source = ColumnDataSource(data=dict(\n",
    "    pubtype = data['pubtype'],\n",
    "    date = data['date'],\n",
    "    date_yfraction = data['date_yfraction'],\n",
    "    date_year = data['date_year'],\n",
    "    c10 = data['c10'],\n",
    "    ctot = data['ctot'],\n",
    "    title = data['title']\n",
    "))"
   ]
  },
  {
   "cell_type": "code",
   "execution_count": 7,
   "metadata": {
    "collapsed": true
   },
   "outputs": [],
   "source": [
    "# https://bokeh.pydata.org/en/latest/docs/user_guide/tools.html\n",
    "hover = HoverTool( tooltips=\"\"\"\n",
    "    <div>\n",
    "        <span style=\"font-size: 16px;\">@title</span>\n",
    "    </div>\n",
    "    <div>\n",
    "        <span style=\"font-size: 12px;\">Citations after 10 years: @c10, Total citations: @ctot </br>Publication year: @date_year</span>\n",
    "    </div>\n",
    "    \"\"\"\n",
    ")"
   ]
  },
  {
   "cell_type": "code",
   "execution_count": 8,
   "metadata": {
    "collapsed": false
   },
   "outputs": [],
   "source": [
    "mindate = int(min(data['date_yfraction']) - 1)\n",
    "maxdate = int(max(data['date_yfraction']) + 1)\n",
    "\n",
    "careerplot = figure(title=\"Career of Stephen Hawking\", tools=[hover,\"wheel_zoom\",\"pan\",\"box_zoom\",\"reset\"], toolbar_location=\"right\",\n",
    "            x_range=[mindate, maxdate], y_range=[0,700], active_drag=\"pan\", active_scroll=\"wheel_zoom\",plot_width=1200, plot_height=500)\n",
    "\n",
    "careerplot.segment('date_yfraction', 0, 'date_yfraction', 'c10', line_width=1.5, line_color=\"#AAAAAA\", line_alpha = 0.8, source=source)\n",
    "careerplot.circle('date_yfraction', 'c10' , size=13, fill_color=\"#CC0033\", fill_alpha= 0.8, line_color=\"#AAAAAA\", line_width=1.5, source=source)\n",
    "careerplot.yaxis.axis_label = \"Impact\"\n",
    "careerplot.yaxis.axis_label_text_font_style = \"normal\"\n",
    "\n",
    "output_file(\"careerplot.html\", title=\"Career plot\")\n",
    "\n",
    "show(careerplot)  # open a browser"
   ]
  }
 ],
 "metadata": {
  "kernelspec": {
   "display_name": "Python 3",
   "language": "python",
   "name": "python3"
  },
  "language_info": {
   "codemirror_mode": {
    "name": "ipython",
    "version": 3
   },
   "file_extension": ".py",
   "mimetype": "text/x-python",
   "name": "python",
   "nbconvert_exporter": "python",
   "pygments_lexer": "ipython3",
   "version": "3.6.0"
  }
 },
 "nbformat": 4,
 "nbformat_minor": 2
}
