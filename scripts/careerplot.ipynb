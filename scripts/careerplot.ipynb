{
 "cells": [
  {
   "cell_type": "markdown",
   "metadata": {},
   "source": [
    "# Careerplot"
   ]
  },
  {
   "cell_type": "markdown",
   "metadata": {},
   "source": [
    "This script takes a data set of a scientific career extracted from Web of Science (WoS) and creates a career lollipop plot, as in: http://science.sciencemag.org/content/354/6312/aaf5239\n",
    "\n",
    "The plot uses bokeh and is interactive."
   ]
  },
  {
   "cell_type": "code",
   "execution_count": 34,
   "metadata": {
    "collapsed": false
   },
   "outputs": [],
   "source": [
    "from bokeh.layouts import row\n",
    "from bokeh.plotting import figure, show, output_file, ColumnDataSource\n",
    "from bokeh.models import HoverTool\n",
    "from collections import OrderedDict\n",
    "import csv\n",
    "from datetime import datetime as dt\n",
    "import time"
   ]
  },
  {
   "cell_type": "code",
   "execution_count": 92,
   "metadata": {
    "collapsed": true
   },
   "outputs": [],
   "source": [
    "plotwidth = 820\n",
    "plotheight = 380"
   ]
  },
  {
   "cell_type": "code",
   "execution_count": 35,
   "metadata": {
    "collapsed": true
   },
   "outputs": [],
   "source": [
    "#https://stackoverflow.com/questions/6451655/python-how-to-convert-datetime-dates-to-decimal-years\n",
    "def toYearFraction(date):\n",
    "    def sinceEpoch(date): # returns seconds since epoch\n",
    "        return time.mktime(date.timetuple())\n",
    "    s = sinceEpoch\n",
    "\n",
    "    year = date.year\n",
    "    startOfThisYear = dt(year=year, month=1, day=1)\n",
    "    startOfNextYear = dt(year=year+1, month=1, day=1)\n",
    "\n",
    "    yearElapsed = s(date) - s(startOfThisYear)\n",
    "    yearDuration = s(startOfNextYear) - s(startOfThisYear)\n",
    "    fraction = yearElapsed/yearDuration\n",
    "\n",
    "    return date.year + fraction"
   ]
  },
  {
   "cell_type": "code",
   "execution_count": 63,
   "metadata": {
    "collapsed": false
   },
   "outputs": [],
   "source": [
    "## Load data\n",
    "\n",
    "# https://stackoverflow.com/questions/19486369/extract-csv-file-specific-columns-to-list-in-python/19487003\n",
    "with open('../data/career_hawking_scipub.csv', 'r') as infile:\n",
    "  # read the file as a dictionary for each row ({header : value})\n",
    "  reader = csv.DictReader(infile)\n",
    "  data = {}\n",
    "  for row in reader:\n",
    "    for header, value in row.items():\n",
    "      try:\n",
    "        data[header].append(value)\n",
    "      except KeyError:\n",
    "        data[header] = [value]\n",
    "\n",
    "data['date_yfraction'] = [toYearFraction(dt.strptime(data['date'][x], '%Y-%m-%d')) for x in range(len(data['date']))]\n",
    "data['date_year'] = [int(x) for x in data['date_yfraction']]\n",
    "data['title'] = [x.strip().title() for x in data['title']]\n",
    "data['journal'] = [x.strip().title() for x in data['journal']]\n",
    "\n",
    "source_scipub = ColumnDataSource(data=dict(\n",
    "    journal = data['journal'],\n",
    "    date = data['date'],\n",
    "    date_yfraction = data['date_yfraction'],\n",
    "    date_year = data['date_year'],\n",
    "    c10 = data['c10'],\n",
    "    ctot = data['ctot'],\n",
    "    title = data['title']\n",
    "))\n",
    "\n",
    "\n",
    "\n",
    "\n",
    "with open('../data/career_hawking_book.csv', 'r') as infile:\n",
    "  # read the file as a dictionary for each row ({header : value})\n",
    "  reader = csv.DictReader(infile)\n",
    "  data_book = {}\n",
    "  for row in reader:\n",
    "    for header, value in row.items():\n",
    "      try:\n",
    "        data_book[header].append(value)\n",
    "      except KeyError:\n",
    "        data_book[header] = [value]\n",
    "\n",
    "data_book['ratecountdiv100'] = [float(x)/100 for x in data_book['ratecount']]\n",
    "data_book['date_year'] = [int(x) for x in data_book['date_year']]\n",
    "        \n",
    "source_book = ColumnDataSource(data=dict(\n",
    "    date_year = data_book['date_year'],\n",
    "    avgrate = data_book['avgrate'],\n",
    "    ratecount = data_book['ratecount'],\n",
    "    ratecountdiv100 = data_book['ratecountdiv100'],\n",
    "    numberreviews = data_book['numberreviews'],\n",
    "    title = data_book['title'],\n",
    "    url = data_book['url']\n",
    "))"
   ]
  },
  {
   "cell_type": "code",
   "execution_count": 94,
   "metadata": {
    "collapsed": false
   },
   "outputs": [
    {
     "ename": "NameError",
     "evalue": "name 'export_png' is not defined",
     "output_type": "error",
     "traceback": [
      "\u001b[0;31m---------------------------------------------------------------------------\u001b[0m",
      "\u001b[0;31mNameError\u001b[0m                                 Traceback (most recent call last)",
      "\u001b[0;32m<ipython-input-94-769499a44993>\u001b[0m in \u001b[0;36m<module>\u001b[0;34m()\u001b[0m\n\u001b[1;32m     52\u001b[0m \u001b[0;34m\u001b[0m\u001b[0m\n\u001b[1;32m     53\u001b[0m \u001b[0mshow\u001b[0m\u001b[0;34m(\u001b[0m\u001b[0mcareerplot\u001b[0m\u001b[0;34m)\u001b[0m  \u001b[0;31m# open a browser\u001b[0m\u001b[0;34m\u001b[0m\u001b[0m\n\u001b[0;32m---> 54\u001b[0;31m \u001b[0mexport_png\u001b[0m\u001b[0;34m(\u001b[0m\u001b[0mcareerplot\u001b[0m\u001b[0;34m,\u001b[0m \u001b[0mfilename\u001b[0m\u001b[0;34m=\u001b[0m\u001b[0;34m\"plot.png\"\u001b[0m\u001b[0;34m)\u001b[0m\u001b[0;34m\u001b[0m\u001b[0m\n\u001b[0m",
      "\u001b[0;31mNameError\u001b[0m: name 'export_png' is not defined"
     ]
    }
   ],
   "source": [
    "mindate = int(min(data['date_year']+data_book['date_year']) - 2)\n",
    "maxdate = int(max(data['date_year']+data_book['date_year']) + 2)\n",
    "\n",
    "careerplot = figure(title=\"Career of Stephen Hawking\", tools=[\"wheel_zoom\",\"pan\",\"box_zoom\",\"reset\"], toolbar_location=\"above\",\n",
    "            x_range=[mindate, maxdate], y_range=[-20,700], active_drag=\"pan\", active_scroll=\"wheel_zoom\",plot_width=plotwidth, plot_height=plotheight)\n",
    "\n",
    "\n",
    "# Scientific publications\n",
    "careerplot.segment('date_yfraction', 0, 'date_yfraction', 'c10', line_width=1.5, line_color=\"#CC9999\", line_alpha = 0.8, source=source_scipub)\n",
    "renderer_scipub = careerplot.circle('date_yfraction', 'c10' , size=13, fill_color=\"#CC0033\", fill_alpha= 0.8, line_color=\"#CC9999\", line_width=1.5, source=source_scipub)\n",
    "\n",
    "# https://stackoverflow.com/questions/27545842/hovertool-for-multiple-data-series-in-bokeh-scatter-plot\n",
    "# https://bokeh.pydata.org/en/latest/docs/user_guide/tools.html\n",
    "careerplot.add_tools(HoverTool(renderers=[renderer_scipub], tooltips=\"\"\"\n",
    "    <div style=\"padding-bottom:8px;\">\n",
    "        <span style=\"font-size: 20px;\">@title</br></span>\n",
    "        <span style=\"font-size: 14px;\">@journal (@date_year)</span>\n",
    "    </div>\n",
    "    <div>\n",
    "        <span style=\"font-size: 12px;\">Citations after 10 years: <b>@c10</b>, Total citations: <b>@ctot</b></span>\n",
    "    </div>\n",
    "    \"\"\"\n",
    "))\n",
    "\n",
    "\n",
    "\n",
    "# Books\n",
    "careerplot.segment('date_year', 0, 'date_year', 'ratecountdiv100', line_width=2.5, line_color=\"#6666AA\", line_alpha = 0.8, source=source_book)\n",
    "renderer_book = careerplot.circle('date_year', 'ratecountdiv100' , size=16, fill_color=\"#3333CC\", fill_alpha= 0.8, line_color=\"#6666AA\", line_width=2.5, source=source_book)\n",
    "\n",
    "careerplot.add_tools(HoverTool(renderers=[renderer_book], tooltips=\"\"\"\n",
    "    <div style=\"padding-bottom:8px;\">\n",
    "        <span style=\"font-size: 20px;\">@title (@date_year)</br></span>\n",
    "    </div>\n",
    "    <div>\n",
    "        <span style=\"font-size: 12px;\"><img src=\"assets/logo_goodreads.png\" width=\"16\" height=\"16\" style=\"vertical-align: middle;\"> Rating: <b>@avgrate</b> &nbsp;&middot;&nbsp; <b>@ratecount</b> Ratings &nbsp;&middot;&nbsp; <b>@numberreviews</b> Reviews </span>\n",
    "    </div>\n",
    "    \"\"\"\n",
    "))\n",
    "\n",
    "\n",
    "# Hawking portraits\n",
    "ratio = (plotwidth/plotheight)*720/(maxdate-mindate)\n",
    "careerplot.image_url(url=['assets/cropped1.png'], x=1965, y=500, w=160/ratio,h=160)\n",
    "careerplot.image_url(url=['assets/cropped2.png'], x=1992, y=500, w=160/ratio,h=160)\n",
    "careerplot.image_url(url=['assets/cropped3.png'], x=2012, y=500, w=160/ratio,h=160)\n",
    "\n",
    "careerplot.yaxis.axis_label = \"Impact\"\n",
    "careerplot.yaxis.axis_label_text_font_style = \"normal\"\n",
    "\n",
    "output_file(\"../careerplot.html\", title=\"Career plot\")\n",
    "\n",
    "show(careerplot)  # open a browser\n",
    "export_png(careerplot, filename=\"plot.png\")"
   ]
  },
  {
   "cell_type": "code",
   "execution_count": null,
   "metadata": {
    "collapsed": true
   },
   "outputs": [],
   "source": []
  }
 ],
 "metadata": {
  "kernelspec": {
   "display_name": "Python 3",
   "language": "python",
   "name": "python3"
  },
  "language_info": {
   "codemirror_mode": {
    "name": "ipython",
    "version": 3
   },
   "file_extension": ".py",
   "mimetype": "text/x-python",
   "name": "python",
   "nbconvert_exporter": "python",
   "pygments_lexer": "ipython3",
   "version": "3.6.0"
  }
 },
 "nbformat": 4,
 "nbformat_minor": 2
}
